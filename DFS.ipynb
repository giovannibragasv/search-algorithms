{
 "cells": [
  {
   "cell_type": "markdown",
   "metadata": {},
   "source": [
    "# **Teoria de Grafos - Atividade DFS**"
   ]
  },
  {
   "cell_type": "markdown",
   "metadata": {},
   "source": [
    "## *Pré-Processamento*\n",
    "---"
   ]
  },
  {
   "cell_type": "code",
   "execution_count": null,
   "metadata": {},
   "outputs": [],
   "source": [
    "pip install matplotlib numpy"
   ]
  },
  {
   "cell_type": "code",
   "execution_count": null,
   "metadata": {},
   "outputs": [],
   "source": [
    "from collections import deque\n",
    "import matplotlib.pyplot as plt\n",
    "import numpy as np"
   ]
  },
  {
   "cell_type": "markdown",
   "metadata": {},
   "source": [
    "## *Algorítmo DFS*\n",
    "---"
   ]
  },
  {
   "cell_type": "code",
   "execution_count": null,
   "metadata": {
    "colab": {
     "base_uri": "https://localhost:8080/",
     "height": 1000
    },
    "id": "icdP6ABhdVyu",
    "outputId": "cf998a83-6bd2-4e51-a8a8-dba4cf555a96"
   },
   "outputs": [],
   "source": [
    "from collections import deque\n",
    "import matplotlib.pyplot as plt\n",
    "import numpy as np\n",
    "\n",
    "maze = [\n",
    "    [0, 1, 0, 0, 0, 0, 0, 0, 0, 0, 0, 0],\n",
    "    [0, 1, 0, 1, 1, 1, 1, 1, 1, 1, 1, 0],\n",
    "    [0, 1, 0, 0, 0, 0, 0, 0, 0, 0, 1, 0],\n",
    "    [0, 1, 1, 1, 1, 1, 1, 1, 1, 0, 1, 0],\n",
    "    [0, 0, 0, 0, 0, 0, 0, 0, 1, 0, 1, 0],\n",
    "    [1, 1, 1, 1, 1, 1, 1, 0, 1, 0, 1, 0],\n",
    "    [0, 0, 0, 0, 0, 0, 1, 0, 0, 0, 1, 0],\n",
    "    [0, 1, 1, 1, 1, 0, 1, 1, 1, 0, 1, 0],\n",
    "    [0, 1, 0, 0, 0, 0, 0, 0, 0, 0, 1, 0],\n",
    "    [0, 1, 0, 1, 1, 1, 1, 1, 1, 1, 1, 0],\n",
    "    [0, 1, 0, 0, 0, 0, 0, 0, 0, 0, 0, 0],\n",
    "]\n",
    "\n",
    "start = (0, 0)\n",
    "end = (10, 11)\n",
    "\n",
    "def is_valid(maze, visited, row, col):\n",
    "    \"\"\"\n",
    "    Verifica se a posição é válida.\n",
    "\n",
    "    Parâmetros:\n",
    "    maze (list): A matriz representando o labirinto.\n",
    "    visited (list): A matriz que indica as posições já visitadas.\n",
    "    row (int): Índice da linha da posição.\n",
    "    col (int): Índice da coluna da posição.\n",
    "\n",
    "    Retorna:\n",
    "    bool: True se a posição for válida, False caso contrário.\n",
    "    \"\"\"\n",
    "    rows = len(maze)\n",
    "    cols = len(maze[0])\n",
    "    return (0 <= row < rows) and (0 <= col < cols) \\\n",
    "           and not visited[row][col] and maze[row][col] == 0\n",
    "\n",
    "def dfs(maze, start, end):\n",
    "    \"\"\"\n",
    "    Realiza a busca em profundidade (DFS) para encontrar um caminho no labirinto.\n",
    "\n",
    "    Parâmetros:\n",
    "    maze (list): A matriz representando o labirinto.\n",
    "    start (tuple): Coordenadas de início.\n",
    "    end (tuple): Coordenadas do destino.\n",
    "\n",
    "    Retorna:\n",
    "    list: O caminho encontrado do início ao fim, ou None se não houver caminho.\n",
    "    \"\"\"\n",
    "    stack = deque()\n",
    "    stack.append((start, [start])) \n",
    "    visited = [[False]*len(maze[0]) for _ in maze] \n",
    "\n",
    "    while stack:\n",
    "        (row, col), path = stack.pop() \n",
    "        if (row, col) == end:\n",
    "            return path \n",
    "\n",
    "        visited[row][col] = True \n",
    "\n",
    "        directions = [(-1,0), (1,0), (0,-1), (0,1)]\n",
    "        for dr, dc in directions:\n",
    "            new_row, new_col = row + dr, col + dc\n",
    "            if is_valid(maze, visited, new_row, new_col):\n",
    "                stack.append(((new_row, new_col), path + [(new_row, new_col)])) \n",
    "\n",
    "    return None \n",
    "\n",
    "def plot_maze(maze, path=None):\n",
    "    \"\"\"\n",
    "    Plota o labirinto e o caminho encontrado, se houver.\n",
    "\n",
    "    Parâmetros:\n",
    "    maze (list): A matriz representando o labirinto.\n",
    "    path (list): O caminho encontrado, se houver.\n",
    "    \"\"\"\n",
    "    maze_array = np.array(maze)\n",
    "    rows, cols = maze_array.shape\n",
    "\n",
    "    fig, ax = plt.subplots(figsize=(10, 10))\n",
    "    ax.imshow(maze_array, cmap=plt.cm.binary)\n",
    "\n",
    "    ax.set_xticks(np.arange(-0.5, cols, 1))\n",
    "    ax.set_yticks(np.arange(-0.5, rows, 1))\n",
    "    ax.set_xticklabels([])\n",
    "    ax.set_yticklabels([])\n",
    "    ax.grid(True, which='both', color='black', linewidth=2)\n",
    "\n",
    "    if path:\n",
    "        y_coords, x_coords = zip(*path)\n",
    "        ax.plot(x_coords, y_coords, color='red', linewidth=2)\n",
    "\n",
    "    ax.scatter(start[1], start[0], marker='o', color='green', s=100, label='Início')\n",
    "    ax.scatter(end[1], end[0], marker='o', color='blue', s=100, label='Fim')\n",
    "    ax.legend(loc='upper right')\n",
    "\n",
    "    plt.gca().invert_yaxis() \n",
    "    plt.show()\n",
    "\n",
    "path = dfs(maze, start, end)\n",
    "\n",
    "if path:\n",
    "    print(\"Caminho encontrado:\")\n",
    "    for step in path:\n",
    "        print(step)\n",
    "    plot_maze(maze, path)\n",
    "else:\n",
    "    print(\"Nenhum caminho encontrado.\")\n",
    "    plot_maze(maze)\n"
   ]
  }
 ],
 "metadata": {
  "colab": {
   "provenance": []
  },
  "kernelspec": {
   "display_name": "Python 3",
   "name": "python3"
  },
  "language_info": {
   "name": "python"
  }
 },
 "nbformat": 4,
 "nbformat_minor": 0
}
