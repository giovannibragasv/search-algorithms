{
 "cells": [
  {
   "cell_type": "markdown",
   "metadata": {
    "id": "cqrvSJ7GuYFJ"
   },
   "source": [
    "# **Teoria de Grafos – Atividade**"
   ]
  },
  {
   "cell_type": "markdown",
   "metadata": {
    "id": "ct6rRWayupkG"
   },
   "source": [
    "## *Pré-Processamento*\n",
    "---"
   ]
  },
  {
   "cell_type": "code",
   "execution_count": null,
   "metadata": {
    "id": "deu_Jx-asBj9"
   },
   "outputs": [],
   "source": [
    "pip install networkx matplotlib"
   ]
  },
  {
   "cell_type": "markdown",
   "metadata": {
    "id": "kbJDF5dcuyO1"
   },
   "source": [
    "## *Algorítmo Dijkstra*\n",
    "---"
   ]
  },
  {
   "cell_type": "code",
   "execution_count": null,
   "metadata": {
    "colab": {
     "base_uri": "https://localhost:8080/",
     "height": 917
    },
    "id": "_r4iy-8Nr_iK",
    "outputId": "620e2184-9419-489b-b011-5d0c55cffd88"
   },
   "outputs": [],
   "source": [
    "import matplotlib.pyplot as plt\n",
    "import networkx as nx\n",
    "\n",
    "class Grafo:\n",
    "    def __init__(self):\n",
    "        self.grafo = {}\n",
    "\n",
    "    def adicionar_aresta(self, u, v, peso):\n",
    "        \"\"\"\n",
    "        Adiciona uma aresta ao grafo com um peso associado.\n",
    "\n",
    "        Parâmetros:\n",
    "        u (str): Vértice de origem.\n",
    "        v (str): Vértice de destino.\n",
    "        peso (float): Peso da aresta entre u e v.\n",
    "        \"\"\"\n",
    "        if u not in self.grafo:\n",
    "            self.grafo[u] = []\n",
    "        if v not in self.grafo:\n",
    "            self.grafo[v] = []\n",
    "        self.grafo[u].append((v, peso))\n",
    "        self.grafo[v].append((u, peso))\n",
    "\n",
    "    def dijkstra(self, inicio):\n",
    "        \"\"\"\n",
    "        Implementa o algoritmo de Dijkstra manualmente para encontrar o caminho mais curto a partir de um vértice inicial.\n",
    "\n",
    "        Parâmetros:\n",
    "        inicio (str): O vértice inicial para calcular as distâncias.\n",
    "\n",
    "        Retorna:\n",
    "        dict: Um dicionário contendo as menores distâncias do vértice inicial para cada vértice no grafo.\n",
    "        \"\"\"\n",
    "        distancias = {vertice: float('infinity') for vertice in self.grafo}\n",
    "        distancias[inicio] = 0\n",
    "        visitados = set()\n",
    "\n",
    "        while len(visitados) < len(self.grafo):\n",
    "            menor_distancia = float('infinity')\n",
    "            vertice_min = None\n",
    "            for vertice in distancias:\n",
    "                if vertice not in visitados and distancias[vertice] < menor_distancia:\n",
    "                    menor_distancia = distancias[vertice]\n",
    "                    vertice_min = vertice\n",
    "\n",
    "            if vertice_min is None:\n",
    "                break\n",
    "\n",
    "            visitados.add(vertice_min)\n",
    "\n",
    "            for vizinho, peso in self.grafo[vertice_min]:\n",
    "                if vizinho not in visitados:\n",
    "                    nova_distancia = distancias[vertice_min] + peso\n",
    "                    if nova_distancia < distancias[vizinho]:\n",
    "                        distancias[vizinho] = nova_distancia\n",
    "\n",
    "        return distancias\n",
    "\n",
    "grafo = Grafo()\n",
    "\n",
    "arestas = [\n",
    "    ('A', 'B', 2), ('A', 'C', 5),\n",
    "    ('B', 'C', 3), ('B', 'D', 1),\n",
    "    ('C', 'D', 2), ('C', 'E', 3),\n",
    "    ('D', 'E', 1), ('D', 'F', 4),\n",
    "    ('E', 'F', 2), ('E', 'G', 3),\n",
    "    ('F', 'G', 1), ('F', 'H', 5),\n",
    "    ('G', 'H', 2), ('G', 'I', 4),\n",
    "    ('H', 'I', 1), ('H', 'J', 3),\n",
    "    ('I', 'J', 2), ('I', 'K', 3),\n",
    "    ('J', 'K', 1), ('J', 'L', 4),\n",
    "    ('K', 'L', 2)\n",
    "]\n",
    "\n",
    "for u, v, peso in arestas:\n",
    "    grafo.adicionar_aresta(u, v, peso)\n",
    "\n",
    "distancias_minimas = grafo.dijkstra('A')\n",
    "\n",
    "print(\"Distâncias mínimas de 'A' para os demais vértices:\")\n",
    "for vertice, distancia in distancias_minimas.items():\n",
    "    print(f\"Distância até {vertice}: {distancia}\")\n",
    "\n",
    "G = nx.Graph()\n",
    "\n",
    "for u, v, peso in arestas:\n",
    "    G.add_edge(u, v, weight=peso)\n",
    "\n",
    "pos = nx.spring_layout(G)\n",
    "\n",
    "nx.draw_networkx_nodes(G, pos, node_size=500, node_color='lightblue')\n",
    "nx.draw_networkx_edges(G, pos)\n",
    "labels = nx.get_edge_attributes(G, 'weight')\n",
    "nx.draw_networkx_edge_labels(G, pos, edge_labels=labels)\n",
    "dist_labels = {node: f\"{node}\\n({dist})\" for node, dist in distancias_minimas.items()}\n",
    "nx.draw_networkx_labels(G, pos, labels=dist_labels, font_size=10)\n",
    "\n",
    "plt.title(\"Grafo com Distâncias Mínimas a partir do Vértice 'A'\")\n",
    "plt.axis('off')\n",
    "plt.show()"
   ]
  }
 ],
 "metadata": {
  "colab": {
   "provenance": []
  },
  "kernelspec": {
   "display_name": "Python 3",
   "name": "python3"
  },
  "language_info": {
   "name": "python"
  }
 },
 "nbformat": 4,
 "nbformat_minor": 0
}
